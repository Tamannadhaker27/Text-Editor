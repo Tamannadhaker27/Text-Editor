{
 "cells": [
  {
   "cell_type": "code",
   "execution_count": 2,
   "id": "5c89e984-6bde-4586-b930-2b01f57a72b1",
   "metadata": {},
   "outputs": [],
   "source": [
    "import tkinter as tk\n",
    "from tkinter import filedialog, messagebox # filedialog-----allows opening and saving files.\n",
    "\n",
    "def new_file():\n",
    "    text.delete(1.0, tk.END)\n",
    "    \n",
    "def open_file():\n",
    "    file_path = filedialog.askopenfilename (defaultextension=\".txt\", filetypes=[(\"Text Files\",\"*.txt\")])\n",
    "    if file_path:\n",
    "        with open(file_path, 'r') as file:\n",
    "            text.delete(1.0, tk.END)\n",
    "            text.insert(tk. END, file.read())\n",
    "                                                                                 \n",
    "def save_file():\n",
    "    file_path = filedialog.asksaveasfilename (defaultextension=\".txt\", filetypes=[(\"Text Files\",\"*.txt\")])\n",
    "    if file_path:\n",
    "        with open(file_path, 'w') as file:\n",
    "            file.write(text.get(1.0, tk.END))\n",
    "            messagebox.showinfo(\"Info\", \"File saved successfully!\")\n",
    "\n",
    "root = tk.Tk()\n",
    "root.title(\"Simple Text Editor\")\n",
    "root.geometry(\"800x600\")\n",
    "    \n",
    "menu = tk.Menu(root)\n",
    "root.config(menu=menu)\n",
    "    \n",
    "file_menu = tk.Menu(menu)\n",
    "menu.add_cascade (label=\"File\", menu=file_menu)\n",
    "file_menu.add_command(label=\"New\", command=new_file) \n",
    "file_menu.add_command(label=\"Open\", command=open_file) \n",
    "file_menu.add_command(label=\"Save\", command=save_file)\n",
    "file_menu.add_separator()\n",
    "file_menu.add_command(label=\"Exit\", command=root.quit)\n",
    "         \n",
    "text = tk.Text(root, wrap=tk.WORD, font=(\"Helvetica\", 12), fg=\"blue\")\n",
    "text.pack (expand=tk. YES, fill=tk.BOTH)\n",
    "\n",
    "root.mainloop()"
   ]
  },
  {
   "cell_type": "code",
   "execution_count": null,
   "id": "10a74c8a-a2ee-451c-ab21-5f0511941a1c",
   "metadata": {},
   "outputs": [],
   "source": []
  }
 ],
 "metadata": {
  "kernelspec": {
   "display_name": "Python 3 (ipykernel)",
   "language": "python",
   "name": "python3"
  },
  "language_info": {
   "codemirror_mode": {
    "name": "ipython",
    "version": 3
   },
   "file_extension": ".py",
   "mimetype": "text/x-python",
   "name": "python",
   "nbconvert_exporter": "python",
   "pygments_lexer": "ipython3",
   "version": "3.11.7"
  }
 },
 "nbformat": 4,
 "nbformat_minor": 5
}
